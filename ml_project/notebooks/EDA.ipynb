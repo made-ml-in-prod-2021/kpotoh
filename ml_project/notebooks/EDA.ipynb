{
 "cells": [
  {
   "cell_type": "markdown",
   "id": "derived-pleasure",
   "metadata": {},
   "source": [
    "Data from [kaggle](https://www.kaggle.com/ronitf/heart-disease-uci)\n",
    "\n",
    "Attribute Information:\n",
    "\n",
    "        age\n",
    "        sex\n",
    "        chest pain type (4 values)\n",
    "        resting blood pressure\n",
    "        serum cholestoral in mg/dl\n",
    "        fasting blood sugar > 120 mg/dl\n",
    "        resting electrocardiographic results (values 0,1,2)\n",
    "        maximum heart rate achieved\n",
    "        exercise induced angina\n",
    "        oldpeak = ST depression induced by exercise relative to rest\n",
    "        the slope of the peak exercise ST segment\n",
    "        number of major vessels (0-3) colored by flourosopya\n",
    "        thal: 3 = normal; 6 = fixed defect; 7 = reversable defect"
   ]
  },
  {
   "cell_type": "code",
   "execution_count": 12,
   "id": "boring-corner",
   "metadata": {
    "ExecuteTime": {
     "end_time": "2021-05-02T21:34:19.329112Z",
     "start_time": "2021-05-02T21:34:19.320626Z"
    }
   },
   "outputs": [
    {
     "data": {
      "text/plain": [
       "array([ 10,  31,  52,  73,  94, 115, 136, 157, 178, 200])"
      ]
     },
     "execution_count": 12,
     "metadata": {},
     "output_type": "execute_result"
    }
   ],
   "source": [
    "np.linspace(10, 200, 10).astype(int)"
   ]
  },
  {
   "cell_type": "code",
   "execution_count": 14,
   "id": "weighted-lewis",
   "metadata": {
    "ExecuteTime": {
     "end_time": "2021-05-02T21:35:42.730336Z",
     "start_time": "2021-05-02T21:35:42.725668Z"
    }
   },
   "outputs": [],
   "source": [
    "import numpy as np\n",
    "import pandas as pd\n",
    "import matplotlib.pyplot as plt\n",
    "import seaborn as sns\n",
    "from sklearn.model_selection import cross_val_score, GridSearchCV\n",
    "from sklearn.linear_model import LogisticRegression\n",
    "from sklearn.ensemble import RandomForestClassifier\n",
    "from sklearn.neighbors import KNeighborsClassifier\n",
    "from sklearn.naive_bayes import GaussianNB, BernoulliNB\n",
    "from sklearn.metrics import accuracy_score, roc_auc_score\n",
    "from sklearn.preprocessing import StandardScaler"
   ]
  },
  {
   "cell_type": "code",
   "execution_count": null,
   "id": "regular-vietnam",
   "metadata": {},
   "outputs": [],
   "source": []
  },
  {
   "cell_type": "code",
   "execution_count": 2,
   "id": "hired-folks",
   "metadata": {
    "ExecuteTime": {
     "end_time": "2021-05-02T12:42:04.102082Z",
     "start_time": "2021-05-02T12:42:04.098089Z"
    }
   },
   "outputs": [],
   "source": [
    "PATH_TO_DATA_RAW = \"../data/raw/heart.csv\""
   ]
  },
  {
   "cell_type": "code",
   "execution_count": 3,
   "id": "revolutionary-payday",
   "metadata": {
    "ExecuteTime": {
     "end_time": "2021-05-02T12:42:04.182917Z",
     "start_time": "2021-05-02T12:42:04.158816Z"
    }
   },
   "outputs": [
    {
     "data": {
      "text/html": [
       "<div>\n",
       "<style scoped>\n",
       "    .dataframe tbody tr th:only-of-type {\n",
       "        vertical-align: middle;\n",
       "    }\n",
       "\n",
       "    .dataframe tbody tr th {\n",
       "        vertical-align: top;\n",
       "    }\n",
       "\n",
       "    .dataframe thead th {\n",
       "        text-align: right;\n",
       "    }\n",
       "</style>\n",
       "<table border=\"1\" class=\"dataframe\">\n",
       "  <thead>\n",
       "    <tr style=\"text-align: right;\">\n",
       "      <th></th>\n",
       "      <th>age</th>\n",
       "      <th>sex</th>\n",
       "      <th>cp</th>\n",
       "      <th>trestbps</th>\n",
       "      <th>chol</th>\n",
       "      <th>fbs</th>\n",
       "      <th>restecg</th>\n",
       "      <th>thalach</th>\n",
       "      <th>exang</th>\n",
       "      <th>oldpeak</th>\n",
       "      <th>slope</th>\n",
       "      <th>ca</th>\n",
       "      <th>thal</th>\n",
       "      <th>target</th>\n",
       "    </tr>\n",
       "  </thead>\n",
       "  <tbody>\n",
       "    <tr>\n",
       "      <th>0</th>\n",
       "      <td>63</td>\n",
       "      <td>1</td>\n",
       "      <td>3</td>\n",
       "      <td>145</td>\n",
       "      <td>233</td>\n",
       "      <td>1</td>\n",
       "      <td>0</td>\n",
       "      <td>150</td>\n",
       "      <td>0</td>\n",
       "      <td>2.3</td>\n",
       "      <td>0</td>\n",
       "      <td>0</td>\n",
       "      <td>1</td>\n",
       "      <td>1</td>\n",
       "    </tr>\n",
       "    <tr>\n",
       "      <th>1</th>\n",
       "      <td>37</td>\n",
       "      <td>1</td>\n",
       "      <td>2</td>\n",
       "      <td>130</td>\n",
       "      <td>250</td>\n",
       "      <td>0</td>\n",
       "      <td>1</td>\n",
       "      <td>187</td>\n",
       "      <td>0</td>\n",
       "      <td>3.5</td>\n",
       "      <td>0</td>\n",
       "      <td>0</td>\n",
       "      <td>2</td>\n",
       "      <td>1</td>\n",
       "    </tr>\n",
       "    <tr>\n",
       "      <th>2</th>\n",
       "      <td>41</td>\n",
       "      <td>0</td>\n",
       "      <td>1</td>\n",
       "      <td>130</td>\n",
       "      <td>204</td>\n",
       "      <td>0</td>\n",
       "      <td>0</td>\n",
       "      <td>172</td>\n",
       "      <td>0</td>\n",
       "      <td>1.4</td>\n",
       "      <td>2</td>\n",
       "      <td>0</td>\n",
       "      <td>2</td>\n",
       "      <td>1</td>\n",
       "    </tr>\n",
       "  </tbody>\n",
       "</table>\n",
       "</div>"
      ],
      "text/plain": [
       "   age  sex  cp  trestbps  chol  fbs  restecg  thalach  exang  oldpeak  slope  \\\n",
       "0   63    1   3       145   233    1        0      150      0      2.3      0   \n",
       "1   37    1   2       130   250    0        1      187      0      3.5      0   \n",
       "2   41    0   1       130   204    0        0      172      0      1.4      2   \n",
       "\n",
       "   ca  thal  target  \n",
       "0   0     1       1  \n",
       "1   0     2       1  \n",
       "2   0     2       1  "
      ]
     },
     "execution_count": 3,
     "metadata": {},
     "output_type": "execute_result"
    }
   ],
   "source": [
    "df = pd.read_csv(PATH_TO_DATA_RAW)\n",
    "cat_features = ['sex', 'cp', 'fbs', 'restecg', 'exang', 'slope', 'ca', 'thal']\n",
    "num_features = ['age', 'trestbps', 'chol', 'thalach', 'oldpeak']\n",
    "target = 'target'\n",
    "df.head(3)"
   ]
  },
  {
   "cell_type": "code",
   "execution_count": 5,
   "id": "informed-spelling",
   "metadata": {
    "ExecuteTime": {
     "end_time": "2021-04-28T22:50:24.432179Z",
     "start_time": "2021-04-28T22:50:24.419340Z"
    }
   },
   "outputs": [],
   "source": [
    "assert len(set(cat_features + num_features + [target])) == df.shape[1]\n",
    "assert df[cat_features + num_features].shape[1] == df.shape[1] - 1"
   ]
  },
  {
   "cell_type": "code",
   "execution_count": 8,
   "id": "hidden-track",
   "metadata": {
    "ExecuteTime": {
     "end_time": "2021-04-28T22:52:30.847751Z",
     "start_time": "2021-04-28T22:52:30.838934Z"
    }
   },
   "outputs": [
    {
     "data": {
      "text/plain": [
       "age          77.0\n",
       "trestbps    200.0\n",
       "chol        564.0\n",
       "thalach     202.0\n",
       "oldpeak       6.2\n",
       "dtype: float64"
      ]
     },
     "execution_count": 8,
     "metadata": {},
     "output_type": "execute_result"
    }
   ],
   "source": [
    "df[num_features].max()"
   ]
  },
  {
   "cell_type": "code",
   "execution_count": 5,
   "id": "attended-amazon",
   "metadata": {
    "ExecuteTime": {
     "end_time": "2021-04-26T21:22:37.594180Z",
     "start_time": "2021-04-26T21:22:37.576645Z"
    }
   },
   "outputs": [
    {
     "name": "stdout",
     "output_type": "stream",
     "text": [
      "<class 'pandas.core.frame.DataFrame'>\n",
      "RangeIndex: 303 entries, 0 to 302\n",
      "Data columns (total 14 columns):\n",
      " #   Column    Non-Null Count  Dtype  \n",
      "---  ------    --------------  -----  \n",
      " 0   age       303 non-null    int64  \n",
      " 1   sex       303 non-null    int64  \n",
      " 2   cp        303 non-null    int64  \n",
      " 3   trestbps  303 non-null    int64  \n",
      " 4   chol      303 non-null    int64  \n",
      " 5   fbs       303 non-null    int64  \n",
      " 6   restecg   303 non-null    int64  \n",
      " 7   thalach   303 non-null    int64  \n",
      " 8   exang     303 non-null    int64  \n",
      " 9   oldpeak   303 non-null    float64\n",
      " 10  slope     303 non-null    int64  \n",
      " 11  ca        303 non-null    int64  \n",
      " 12  thal      303 non-null    int64  \n",
      " 13  target    303 non-null    int64  \n",
      "dtypes: float64(1), int64(13)\n",
      "memory usage: 33.3 KB\n"
     ]
    }
   ],
   "source": [
    "df.info()"
   ]
  },
  {
   "cell_type": "markdown",
   "id": "invalid-swiss",
   "metadata": {},
   "source": [
    "There are no NaN"
   ]
  },
  {
   "cell_type": "code",
   "execution_count": 6,
   "id": "every-brazilian",
   "metadata": {
    "ExecuteTime": {
     "end_time": "2021-04-26T21:22:47.159726Z",
     "start_time": "2021-04-26T21:22:46.800129Z"
    }
   },
   "outputs": [
    {
     "data": {
      "text/plain": [
       "<AxesSubplot:>"
      ]
     },
     "execution_count": 6,
     "metadata": {},
     "output_type": "execute_result"
    },
    {
     "data": {
      "image/png": "[encoded data removed]",
      "text/plain": [
       "<Figure size 432x288 with 2 Axes>"
      ]
     },
     "metadata": {
      "needs_background": "light"
     },
     "output_type": "display_data"
    }
   ],
   "source": [
    "sns.heatmap(df[num_features].corr(), annot=True)"
   ]
  },
  {
   "cell_type": "markdown",
   "id": "congressional-barcelona",
   "metadata": {},
   "source": [
    "No big correlation"
   ]
  },
  {
   "cell_type": "markdown",
   "id": "complicated-comparison",
   "metadata": {},
   "source": [
    "`target` on numerical features"
   ]
  },
  {
   "cell_type": "code",
   "execution_count": 31,
   "id": "stainless-buyer",
   "metadata": {
    "ExecuteTime": {
     "end_time": "2021-04-26T21:33:24.575336Z",
     "start_time": "2021-04-26T21:33:23.602055Z"
    }
   },
   "outputs": [
    {
     "data": {
      "image/png": "[encoded data removed]",
      "text/plain": [
       "<Figure size 576x576 with 5 Axes>"
      ]
     },
     "metadata": {
      "needs_background": "light"
     },
     "output_type": "display_data"
    }
   ],
   "source": [
    "plt.figure(figsize=(8, 8))\n",
    "for i, fea in enumerate(num_features, 1):\n",
    "    plt.subplot(3, 2, i)\n",
    "    sns.histplot(df, x=fea, hue=target, legend=(i == 2))"
   ]
  },
  {
   "cell_type": "code",
   "execution_count": 49,
   "id": "young-clone",
   "metadata": {
    "ExecuteTime": {
     "end_time": "2021-04-26T21:40:45.901345Z",
     "start_time": "2021-04-26T21:40:45.893883Z"
    }
   },
   "outputs": [],
   "source": [
    "gr = df[cat_features + [target]].groupby(target)  #.apply(pd.get_dummies)"
   ]
  },
  {
   "cell_type": "code",
   "execution_count": 53,
   "id": "trying-genre",
   "metadata": {
    "ExecuteTime": {
     "end_time": "2021-04-26T21:45:14.616438Z",
     "start_time": "2021-04-26T21:45:14.576367Z"
    }
   },
   "outputs": [],
   "source": [
    "cdf = gr.apply(lambda d: pd.get_dummies(\n",
    "    d, columns=cat_features).sum()).drop(target, axis=1).T"
   ]
  },
  {
   "cell_type": "code",
   "execution_count": 56,
   "id": "conditional-standard",
   "metadata": {
    "ExecuteTime": {
     "end_time": "2021-04-26T21:45:32.840091Z",
     "start_time": "2021-04-26T21:45:32.829726Z"
    },
    "collapsed": true
   },
   "outputs": [
    {
     "data": {
      "text/html": [
       "<div>\n",
       "<style scoped>\n",
       "    .dataframe tbody tr th:only-of-type {\n",
       "        vertical-align: middle;\n",
       "    }\n",
       "\n",
       "    .dataframe tbody tr th {\n",
       "        vertical-align: top;\n",
       "    }\n",
       "\n",
       "    .dataframe thead th {\n",
       "        text-align: right;\n",
       "    }\n",
       "</style>\n",
       "<table border=\"1\" class=\"dataframe\">\n",
       "  <thead>\n",
       "    <tr style=\"text-align: right;\">\n",
       "      <th>target</th>\n",
       "      <th>0</th>\n",
       "      <th>1</th>\n",
       "    </tr>\n",
       "  </thead>\n",
       "  <tbody>\n",
       "    <tr>\n",
       "      <th>sex_0</th>\n",
       "      <td>24</td>\n",
       "      <td>72</td>\n",
       "    </tr>\n",
       "    <tr>\n",
       "      <th>sex_1</th>\n",
       "      <td>114</td>\n",
       "      <td>93</td>\n",
       "    </tr>\n",
       "    <tr>\n",
       "      <th>cp_0</th>\n",
       "      <td>104</td>\n",
       "      <td>39</td>\n",
       "    </tr>\n",
       "    <tr>\n",
       "      <th>cp_1</th>\n",
       "      <td>9</td>\n",
       "      <td>41</td>\n",
       "    </tr>\n",
       "    <tr>\n",
       "      <th>cp_2</th>\n",
       "      <td>18</td>\n",
       "      <td>69</td>\n",
       "    </tr>\n",
       "    <tr>\n",
       "      <th>cp_3</th>\n",
       "      <td>7</td>\n",
       "      <td>16</td>\n",
       "    </tr>\n",
       "    <tr>\n",
       "      <th>fbs_0</th>\n",
       "      <td>116</td>\n",
       "      <td>142</td>\n",
       "    </tr>\n",
       "    <tr>\n",
       "      <th>fbs_1</th>\n",
       "      <td>22</td>\n",
       "      <td>23</td>\n",
       "    </tr>\n",
       "    <tr>\n",
       "      <th>restecg_0</th>\n",
       "      <td>79</td>\n",
       "      <td>68</td>\n",
       "    </tr>\n",
       "    <tr>\n",
       "      <th>restecg_1</th>\n",
       "      <td>56</td>\n",
       "      <td>96</td>\n",
       "    </tr>\n",
       "    <tr>\n",
       "      <th>restecg_2</th>\n",
       "      <td>3</td>\n",
       "      <td>1</td>\n",
       "    </tr>\n",
       "    <tr>\n",
       "      <th>exang_0</th>\n",
       "      <td>62</td>\n",
       "      <td>142</td>\n",
       "    </tr>\n",
       "    <tr>\n",
       "      <th>exang_1</th>\n",
       "      <td>76</td>\n",
       "      <td>23</td>\n",
       "    </tr>\n",
       "    <tr>\n",
       "      <th>slope_0</th>\n",
       "      <td>12</td>\n",
       "      <td>9</td>\n",
       "    </tr>\n",
       "    <tr>\n",
       "      <th>slope_1</th>\n",
       "      <td>91</td>\n",
       "      <td>49</td>\n",
       "    </tr>\n",
       "    <tr>\n",
       "      <th>slope_2</th>\n",
       "      <td>35</td>\n",
       "      <td>107</td>\n",
       "    </tr>\n",
       "    <tr>\n",
       "      <th>ca_0</th>\n",
       "      <td>45</td>\n",
       "      <td>130</td>\n",
       "    </tr>\n",
       "    <tr>\n",
       "      <th>ca_1</th>\n",
       "      <td>44</td>\n",
       "      <td>21</td>\n",
       "    </tr>\n",
       "    <tr>\n",
       "      <th>ca_2</th>\n",
       "      <td>31</td>\n",
       "      <td>7</td>\n",
       "    </tr>\n",
       "    <tr>\n",
       "      <th>ca_3</th>\n",
       "      <td>17</td>\n",
       "      <td>3</td>\n",
       "    </tr>\n",
       "    <tr>\n",
       "      <th>ca_4</th>\n",
       "      <td>1</td>\n",
       "      <td>4</td>\n",
       "    </tr>\n",
       "    <tr>\n",
       "      <th>thal_0</th>\n",
       "      <td>1</td>\n",
       "      <td>1</td>\n",
       "    </tr>\n",
       "    <tr>\n",
       "      <th>thal_1</th>\n",
       "      <td>12</td>\n",
       "      <td>6</td>\n",
       "    </tr>\n",
       "    <tr>\n",
       "      <th>thal_2</th>\n",
       "      <td>36</td>\n",
       "      <td>130</td>\n",
       "    </tr>\n",
       "    <tr>\n",
       "      <th>thal_3</th>\n",
       "      <td>89</td>\n",
       "      <td>28</td>\n",
       "    </tr>\n",
       "  </tbody>\n",
       "</table>\n",
       "</div>"
      ],
      "text/plain": [
       "target       0    1\n",
       "sex_0       24   72\n",
       "sex_1      114   93\n",
       "cp_0       104   39\n",
       "cp_1         9   41\n",
       "cp_2        18   69\n",
       "cp_3         7   16\n",
       "fbs_0      116  142\n",
       "fbs_1       22   23\n",
       "restecg_0   79   68\n",
       "restecg_1   56   96\n",
       "restecg_2    3    1\n",
       "exang_0     62  142\n",
       "exang_1     76   23\n",
       "slope_0     12    9\n",
       "slope_1     91   49\n",
       "slope_2     35  107\n",
       "ca_0        45  130\n",
       "ca_1        44   21\n",
       "ca_2        31    7\n",
       "ca_3        17    3\n",
       "ca_4         1    4\n",
       "thal_0       1    1\n",
       "thal_1      12    6\n",
       "thal_2      36  130\n",
       "thal_3      89   28"
      ]
     },
     "execution_count": 56,
     "metadata": {},
     "output_type": "execute_result"
    }
   ],
   "source": [
    "cdf"
   ]
  },
  {
   "cell_type": "markdown",
   "id": "sexual-bulgaria",
   "metadata": {},
   "source": [
    "`target` on categorical features"
   ]
  },
  {
   "cell_type": "code",
   "execution_count": 72,
   "id": "alternate-turkey",
   "metadata": {
    "ExecuteTime": {
     "end_time": "2021-04-26T21:58:38.060411Z",
     "start_time": "2021-04-26T21:58:37.754159Z"
    }
   },
   "outputs": [
    {
     "data": {
      "image/png": "[encoded data removed]",
      "text/plain": [
       "<Figure size 1152x288 with 1 Axes>"
      ]
     },
     "metadata": {
      "needs_background": "light"
     },
     "output_type": "display_data"
    }
   ],
   "source": [
    "plt.figure(figsize=(16, 4))\n",
    "(cdf[1] / cdf.sum(axis=1)).plot()\n",
    "plt.xticks(np.arange(len(cdf)), cdf.index, rotation=55)\n",
    "plt.grid()\n",
    "plt.title('\"Probability\" that target = 1 for the feature values')\n",
    "plt.xlabel('Feature')\n",
    "plt.ylabel('P(target = 1)')\n",
    "plt.show()"
   ]
  },
  {
   "cell_type": "code",
   "execution_count": null,
   "id": "hairy-commitment",
   "metadata": {},
   "outputs": [],
   "source": []
  },
  {
   "cell_type": "markdown",
   "id": "dress-organic",
   "metadata": {},
   "source": [
    "fast pipeline"
   ]
  },
  {
   "cell_type": "code",
   "execution_count": 156,
   "id": "widespread-nation",
   "metadata": {
    "ExecuteTime": {
     "end_time": "2021-04-18T16:54:58.192992Z",
     "start_time": "2021-04-18T16:54:58.174818Z"
    }
   },
   "outputs": [],
   "source": [
    "X = pd.get_dummies(df.drop(target, axis=1), columns=cat_features)"
   ]
  },
  {
   "cell_type": "code",
   "execution_count": 157,
   "id": "trying-playing",
   "metadata": {
    "ExecuteTime": {
     "end_time": "2021-04-18T16:54:58.957834Z",
     "start_time": "2021-04-18T16:54:58.938036Z"
    }
   },
   "outputs": [],
   "source": [
    "scaler = StandardScaler()\n",
    "X[num_features] = scaler.fit_transform(X[num_features])\n",
    "X = X.values\n",
    "y = df[target].values"
   ]
  },
  {
   "cell_type": "code",
   "execution_count": 158,
   "id": "solid-africa",
   "metadata": {
    "ExecuteTime": {
     "end_time": "2021-04-18T16:54:59.264585Z",
     "start_time": "2021-04-18T16:54:59.212803Z"
    }
   },
   "outputs": [],
   "source": [
    "lr = LogisticRegression(random_state=55)\n",
    "cv_scores = cross_val_score(lr, X, y, scoring='roc_auc', cv=5, n_jobs=-1, )"
   ]
  },
  {
   "cell_type": "code",
   "execution_count": 159,
   "id": "residential-palestinian",
   "metadata": {
    "ExecuteTime": {
     "end_time": "2021-04-18T16:54:59.529674Z",
     "start_time": "2021-04-18T16:54:59.523549Z"
    }
   },
   "outputs": [
    {
     "data": {
      "text/plain": [
       "(0.9194564694564695, 0.023667860439439595)"
      ]
     },
     "execution_count": 159,
     "metadata": {},
     "output_type": "execute_result"
    }
   ],
   "source": [
    "cv_scores.mean(), cv_scores.std()"
   ]
  },
  {
   "cell_type": "code",
   "execution_count": 160,
   "id": "pharmaceutical-vegetation",
   "metadata": {
    "ExecuteTime": {
     "end_time": "2021-04-18T16:55:00.098446Z",
     "start_time": "2021-04-18T16:54:59.945970Z"
    }
   },
   "outputs": [
    {
     "name": "stdout",
     "output_type": "stream",
     "text": [
      "LogisticRegression \t 0.9203463203463202 0.022695960676467238\n",
      "KNeighborsClassifier \t 0.9095999679333012 0.026501011311493666\n",
      "ExtraTreesClassifier \t 0.8874258457591792 0.03462628608784582\n",
      "BernoulliNB \t 0.9202982202982204 0.02472681676066134\n",
      "GaussianNB \t 0.9183742183742183 0.02851517324119751\n"
     ]
    }
   ],
   "source": [
    "clfs = [\n",
    "    LogisticRegression(C=.4),\n",
    "    KNeighborsClassifier(n_neighbors=10, p=1),\n",
    "    ExtraTreesClassifier(min_samples_leaf=2),\n",
    "    BernoulliNB(),\n",
    "    GaussianNB(var_smoothing=1e-1),\n",
    "]\n",
    "for clf in clfs:\n",
    "    cv_scores = cross_val_score(clf, X, y, scoring='roc_auc', cv=5, n_jobs=-1, )\n",
    "    print(str(clf).split('(')[0], '\\t', cv_scores.mean(), cv_scores.std())"
   ]
  },
  {
   "cell_type": "code",
   "execution_count": null,
   "id": "armed-colonial",
   "metadata": {},
   "outputs": [],
   "source": []
  },
  {
   "cell_type": "code",
   "execution_count": null,
   "id": "joined-russian",
   "metadata": {},
   "outputs": [],
   "source": []
  },
  {
   "cell_type": "code",
   "execution_count": null,
   "id": "municipal-authentication",
   "metadata": {},
   "outputs": [],
   "source": []
  },
  {
   "cell_type": "code",
   "execution_count": null,
   "id": "narrow-prisoner",
   "metadata": {},
   "outputs": [],
   "source": []
  },
  {
   "cell_type": "code",
   "execution_count": null,
   "id": "antique-smell",
   "metadata": {},
   "outputs": [],
   "source": []
  },
  {
   "cell_type": "code",
   "execution_count": null,
   "id": "amber-satin",
   "metadata": {},
   "outputs": [],
   "source": []
  }
 ],
 "metadata": {
  "kernelspec": {
   "display_name": "Python 3",
   "language": "python",
   "name": "python3"
  },
  "language_info": {
   "codemirror_mode": {
    "name": "ipython",
    "version": 3
   },
   "file_extension": ".py",
   "mimetype": "text/x-python",
   "name": "python",
   "nbconvert_exporter": "python",
   "pygments_lexer": "ipython3",
   "version": "3.7.5"
  }
 },
 "nbformat": 4,
 "nbformat_minor": 5
}
